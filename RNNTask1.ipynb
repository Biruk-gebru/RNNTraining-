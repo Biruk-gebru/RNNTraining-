{
  "nbformat": 4,
  "nbformat_minor": 0,
  "metadata": {
    "colab": {
      "provenance": [],
      "gpuType": "T4",
      "authorship_tag": "ABX9TyMFLvOuQZNoZD/OGiBGjtzJ",
      "include_colab_link": true
    },
    "kernelspec": {
      "name": "python3",
      "display_name": "Python 3"
    },
    "language_info": {
      "name": "python"
    },
    "accelerator": "GPU"
  },
  "cells": [
    {
      "cell_type": "markdown",
      "metadata": {
        "id": "view-in-github",
        "colab_type": "text"
      },
      "source": [
        "<a href=\"https://colab.research.google.com/github/Biruk-gebru/RNNTraining-/blob/main/RNNTask1.ipynb\" target=\"_parent\"><img src=\"https://colab.research.google.com/assets/colab-badge.svg\" alt=\"Open In Colab\"/></a>"
      ]
    },
    {
      "cell_type": "code",
      "execution_count": null,
      "metadata": {
        "collapsed": true,
        "id": "26AFG3P5Y0gK"
      },
      "outputs": [],
      "source": [
        "from google.colab import files\n",
        "files.upload()\n"
      ]
    },
    {
      "cell_type": "code",
      "source": [
        "import os\n",
        "import zipfile\n",
        "\n",
        "# Setup kaggle API credentials\n",
        "os.makedirs(\"/root/.kaggle\", exist_ok=True)\n",
        "!mv kaggle.json /root/.kaggle/kaggle.json\n",
        "!chmod 600 /root/.kaggle/kaggle.json\n",
        "\n",
        "# Download the dataset\n",
        "!kaggle datasets download -d kaggle/us-baby-names\n",
        "\n",
        "# Unzip the file\n",
        "!unzip us-baby-names.zip -d baby_names\n"
      ],
      "metadata": {
        "colab": {
          "base_uri": "https://localhost:8080/"
        },
        "id": "8Go-2-AeY-Bw",
        "outputId": "530ad88e-46f2-453e-fef0-7bc752f96fcd"
      },
      "execution_count": 2,
      "outputs": [
        {
          "output_type": "stream",
          "name": "stdout",
          "text": [
            "Dataset URL: https://www.kaggle.com/datasets/kaggle/us-baby-names\n",
            "License(s): CC0-1.0\n",
            "Downloading us-baby-names.zip to /content\n",
            " 70% 121M/173M [00:00<00:00, 1.26GB/s]\n",
            "100% 173M/173M [00:00<00:00, 1.12GB/s]\n",
            "Archive:  us-baby-names.zip\n",
            "  inflating: baby_names/NationalNames.csv  \n",
            "  inflating: baby_names/NationalReadMe.pdf  \n",
            "  inflating: baby_names/StateNames.csv  \n",
            "  inflating: baby_names/StateReadMe.pdf  \n",
            "  inflating: baby_names/database.sqlite  \n",
            "  inflating: baby_names/hashes.txt   \n"
          ]
        }
      ]
    },
    {
      "cell_type": "code",
      "source": [
        "import pandas as pd\n",
        "\n",
        "df = pd.read_csv('baby_names/NationalNames.csv')\n",
        "df = df.dropna(subset=['Name'])\n",
        "\n",
        "# Sample check\n",
        "print(df.head())\n",
        "print(f\"Total unique names: {df['Name'].nunique()}\")\n"
      ],
      "metadata": {
        "colab": {
          "base_uri": "https://localhost:8080/"
        },
        "id": "a2pL86pTZqO4",
        "outputId": "25d0aadf-e4ec-46e1-df24-b7ee0c4e3949"
      },
      "execution_count": 3,
      "outputs": [
        {
          "output_type": "stream",
          "name": "stdout",
          "text": [
            "   Id       Name  Year Gender  Count\n",
            "0   1       Mary  1880      F   7065\n",
            "1   2       Anna  1880      F   2604\n",
            "2   3       Emma  1880      F   2003\n",
            "3   4  Elizabeth  1880      F   1939\n",
            "4   5     Minnie  1880      F   1746\n",
            "Total unique names: 93889\n"
          ]
        }
      ]
    },
    {
      "cell_type": "code",
      "source": [
        "import string\n",
        "import torch\n",
        "\n",
        "# Setup allowed characters\n",
        "all_letters = string.ascii_letters + \" .,;'-\"\n",
        "n_letters = len(all_letters)\n",
        "\n",
        "# Unique cleaned names\n",
        "def clean_name(name):\n",
        "    return ''.join(c for c in name if c in all_letters)\n",
        "\n",
        "names = df['Name'].unique()\n",
        "names = [clean_name(name) for name in names if len(name) > 1]\n",
        "names = list(set(names))\n",
        "\n",
        "print(f\"Cleaned total names: {len(names)}\")\n"
      ],
      "metadata": {
        "colab": {
          "base_uri": "https://localhost:8080/"
        },
        "id": "rUFEeHuxZu8K",
        "outputId": "4f034bcc-516c-4a55-f6d5-c5d604904503"
      },
      "execution_count": 4,
      "outputs": [
        {
          "output_type": "stream",
          "name": "stdout",
          "text": [
            "Cleaned total names: 93889\n"
          ]
        }
      ]
    },
    {
      "cell_type": "code",
      "source": [
        "# Letter to index and tensor\n",
        "def letter_to_index(letter):\n",
        "    return all_letters.find(letter)\n",
        "\n",
        "def letter_to_tensor(letter):\n",
        "    tensor = torch.zeros(1, n_letters)\n",
        "    tensor[0][letter_to_index(letter)] = 1\n",
        "    return tensor\n",
        "\n",
        "def line_to_tensor(line):\n",
        "    tensor = torch.zeros(len(line), 1, n_letters)\n",
        "    for li, letter in enumerate(line):\n",
        "        tensor[li][0][letter_to_index(letter)] = 1\n",
        "    return tensor\n"
      ],
      "metadata": {
        "id": "mZAZSb9CZ4cW"
      },
      "execution_count": 5,
      "outputs": []
    },
    {
      "cell_type": "code",
      "source": [
        "import torch.nn as nn\n",
        "\n",
        "class RNN(nn.Module):\n",
        "    def __init__(self, input_size, hidden_size, output_size):\n",
        "        super(RNN, self).__init__()\n",
        "        self.hidden_size = hidden_size\n",
        "        self.i2h = nn.Linear(input_size + hidden_size, hidden_size)\n",
        "        self.i2o = nn.Linear(input_size + hidden_size, output_size)\n",
        "        self.softmax = nn.LogSoftmax(dim=1)\n",
        "\n",
        "    def forward(self, input, hidden):\n",
        "        combined = torch.cat((input, hidden), 1)\n",
        "        hidden = self.i2h(combined)\n",
        "        output = self.i2o(combined)\n",
        "        return self.softmax(output), hidden\n",
        "\n",
        "    def initHidden(self):\n",
        "        return torch.zeros(1, self.hidden_size)\n"
      ],
      "metadata": {
        "id": "Pf57OWLOZ_Dc"
      },
      "execution_count": 6,
      "outputs": []
    },
    {
      "cell_type": "code",
      "source": [
        "import random\n",
        "import torch.optim as optim\n",
        "\n",
        "def random_training_pair():\n",
        "    name = random.choice(names)\n",
        "    name = name.strip()\n",
        "\n",
        "    # Skip very short or invalid names\n",
        "    if len(name) < 2:\n",
        "        return random_training_pair()\n",
        "\n",
        "    input_tensor = line_to_tensor(name[:-1])\n",
        "    target_indices = [letter_to_index(c) for c in name[1:]]\n",
        "\n",
        "    # Validate that target indices are in range\n",
        "    if any(i >= n_letters or i < 0 for i in target_indices):\n",
        "        print(\"⚠️ Invalid target index found in name:\", name)\n",
        "        return random_training_pair()\n",
        "\n",
        "    target_tensor = torch.tensor(target_indices, dtype=torch.long)\n",
        "    return input_tensor, target_tensor\n",
        "\n",
        "criterion = nn.NLLLoss()\n",
        "rnn = RNN(n_letters, 128, n_letters)\n",
        "optimizer = optim.Adam(rnn.parameters(), lr=0.005)  # You can lower to 0.001 if needed\n",
        "\n",
        "n_iters = 10000\n",
        "print_every = 500\n",
        "plot_every = 500\n",
        "all_losses = []\n",
        "total_loss = 0\n",
        "\n",
        "for iter in range(1, n_iters + 1):\n",
        "    input_tensor, target_tensor = random_training_pair()\n",
        "    hidden = rnn.initHidden()\n",
        "\n",
        "    optimizer.zero_grad()\n",
        "    loss = 0\n",
        "\n",
        "    for i in range(input_tensor.size(0)):\n",
        "        output, hidden = rnn(input_tensor[i], hidden)\n",
        "        loss += criterion(output, target_tensor[i].unsqueeze(0))\n",
        "\n",
        "    loss.backward()\n",
        "\n",
        "    # ✅ Gradient clipping to avoid exploding gradients\n",
        "    torch.nn.utils.clip_grad_norm_(rnn.parameters(), max_norm=5)\n",
        "\n",
        "    optimizer.step()\n",
        "\n",
        "    loss_val = loss.item() / input_tensor.size(0)\n",
        "    total_loss += loss_val\n",
        "\n",
        "    # Optional spike monitoring\n",
        "    if loss_val > 1e6:\n",
        "        print(f\"🔥 Spike at iteration {iter}: {loss_val:.2f}\")\n",
        "\n",
        "    if iter % print_every == 0:\n",
        "        avg_loss = total_loss / print_every\n",
        "        print(f\"[{iter}] Loss: {avg_loss:.4f}\")\n",
        "    if iter % plot_every == 0:\n",
        "        all_losses.append(total_loss / plot_every)\n",
        "        total_loss = 0\n"
      ],
      "metadata": {
        "colab": {
          "base_uri": "https://localhost:8080/"
        },
        "id": "Oz-MPjExaHeA",
        "outputId": "81c202c9-a1b9-40de-83d8-98edbeb55097"
      },
      "execution_count": 10,
      "outputs": [
        {
          "output_type": "stream",
          "name": "stdout",
          "text": [
            "[500] Loss: 2.9194\n",
            "[1000] Loss: 2.6270\n",
            "[1500] Loss: 2.5308\n",
            "[2000] Loss: 2.4488\n",
            "[2500] Loss: 2.4735\n",
            "[3000] Loss: 2.4014\n",
            "[3500] Loss: 2.3820\n",
            "[4000] Loss: 2.3686\n",
            "[4500] Loss: 2.3550\n",
            "[5000] Loss: 2.4011\n",
            "[5500] Loss: 2.3653\n",
            "[6000] Loss: 2.3615\n",
            "[6500] Loss: 2.3745\n",
            "[7000] Loss: 2.3740\n",
            "[7500] Loss: 2.3166\n",
            "[8000] Loss: 2.3439\n",
            "[8500] Loss: 2.3657\n",
            "[9000] Loss: 2.4047\n",
            "[9500] Loss: 2.3626\n",
            "[10000] Loss: 2.3313\n"
          ]
        }
      ]
    },
    {
      "cell_type": "code",
      "source": [
        "import matplotlib.pyplot as plt\n",
        "\n",
        "plt.figure(figsize=(8,5))\n",
        "plt.plot(all_losses)\n",
        "plt.title(\"Training Loss\")\n",
        "plt.xlabel(\"Iterations (x500)\")\n",
        "plt.ylabel(\"Average Loss\")\n",
        "plt.grid()\n",
        "plt.show()\n"
      ],
      "metadata": {
        "colab": {
          "base_uri": "https://localhost:8080/",
          "height": 487
        },
        "id": "2VeennfFaMEC",
        "outputId": "aeba50fe-3d7d-4122-c4a0-e166cd85bf2e"
      },
      "execution_count": 11,
      "outputs": [
        {
          "output_type": "display_data",
          "data": {
            "text/plain": [
              "<Figure size 800x500 with 1 Axes>"
            ],
            "image/png": "[encoded data removed]"
          },
          "metadata": {}
        }
      ]
    },
    {
      "cell_type": "code",
      "source": [
        "def generate(prefix='A', max_length=20):\n",
        "    with torch.no_grad():\n",
        "        input = letter_to_tensor(prefix[-1])\n",
        "        hidden = rnn.initHidden()\n",
        "        output_name = prefix\n",
        "\n",
        "        for _ in range(max_length):\n",
        "            output, hidden = rnn(input, hidden)\n",
        "            topv, topi = output.topk(1)\n",
        "            next_index = topi[0][0].item()\n",
        "            next_char = all_letters[next_index]\n",
        "            if next_char == '\\n':\n",
        "                break\n",
        "            output_name += next_char\n",
        "            input = letter_to_tensor(next_char)\n",
        "\n",
        "        return output_name\n",
        "\n",
        "# Generate names with different starting letters\n",
        "for start in [\"Ab\", \"Jo\", \"Lu\", \"Mar\", \"El\"]:\n",
        "    print(generate(start))\n"
      ],
      "metadata": {
        "colab": {
          "base_uri": "https://localhost:8080/"
        },
        "id": "AoX4Fgg1aZ8L",
        "outputId": "57016f59-4939-4bba-e1bf-3a0558356408"
      },
      "execution_count": 12,
      "outputs": [
        {
          "output_type": "stream",
          "name": "stdout",
          "text": [
            "AberaviarandrvacrvdQvv\n",
            "Jonderaneylanedrvadrvd\n",
            "Luraneriahrayrvidrvndr\n",
            "MarianenayrvicrvdQvvdQv\n",
            "ElenellendrvidrvydrvdQ\n"
          ]
        }
      ]
    },
    {
      "cell_type": "code",
      "source": [
        "torch.save(rnn.state_dict(), \"name_generator_rnn.pth\")\n"
      ],
      "metadata": {
        "id": "V9aaMelhagzH"
      },
      "execution_count": 13,
      "outputs": []
    },
    {
      "cell_type": "code",
      "source": [
        "from google.colab import drive\n",
        "drive.mount('/content/drive')\n",
        "\n",
        "# Then copy to your drive\n",
        "!cp name_generator_rnn.pth /content/drive/MyDrive/\n"
      ],
      "metadata": {
        "colab": {
          "base_uri": "https://localhost:8080/"
        },
        "id": "WwOm8GsNbUfK",
        "outputId": "e5cf5eb4-7561-4370-e5e4-2f0e66b9abfd"
      },
      "execution_count": 14,
      "outputs": [
        {
          "output_type": "stream",
          "name": "stdout",
          "text": [
            "Mounted at /content/drive\n"
          ]
        }
      ]
    },
    {
      "cell_type": "code",
      "source": [],
      "metadata": {
        "id": "4ZdM8Cq5bVtq"
      },
      "execution_count": null,
      "outputs": []
    }
  ]
}